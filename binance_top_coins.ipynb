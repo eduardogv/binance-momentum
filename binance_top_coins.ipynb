{
 "cells": [
  {
   "cell_type": "markdown",
   "metadata": {},
   "source": [
    "## Binance top 200 coins by volume and momentum"
   ]
  },
  {
   "cell_type": "code",
   "execution_count": 1,
   "metadata": {},
   "outputs": [],
   "source": [
    "coins = 3"
   ]
  },
  {
   "cell_type": "markdown",
   "metadata": {},
   "source": [
    "## 1- Obtengo la data usando la API de Binance"
   ]
  },
  {
   "cell_type": "code",
   "execution_count": 2,
   "metadata": {},
   "outputs": [
    {
     "name": "stderr",
     "output_type": "stream",
     "text": [
      "/Users/egrados/Library/Python/3.9/lib/python/site-packages/urllib3/__init__.py:34: NotOpenSSLWarning: urllib3 v2.0 only supports OpenSSL 1.1.1+, currently the 'ssl' module is compiled with 'LibreSSL 2.8.3'. See: https://github.com/urllib3/urllib3/issues/3020\n",
      "  warnings.warn(\n"
     ]
    }
   ],
   "source": [
    "import requests\n",
    "import pandas as pd\n",
    "from datetime import datetime, timedelta\n",
    "\n",
    "def get_top_volume_coins_list_api(count=200):\n",
    "    # Obtener la lista de todos los símbolos de trading\n",
    "    symbols_url = \"https://api.binance.com/api/v3/exchangeInfo\"\n",
    "    symbols_response = requests.get(symbols_url)\n",
    "    symbols_data = symbols_response.json()\n",
    "    \n",
    "    # Filtrar solo los pares con USDT\n",
    "    usdt_symbols = [symbol['symbol'] for symbol in symbols_data['symbols'] if symbol['symbol'].endswith('USDT')]\n",
    "\n",
    "    # Elimino las stablecoins\n",
    "    stablecoins = ['USDCUSDT', 'FDUSDUSDT', '1000SATS', '1000SATSBTC']\n",
    "    usdt_symbols = [symbol for symbol in usdt_symbols if symbol not in stablecoins]\n",
    "    \n",
    "    # Calcular la fecha de inicio (7 días atrás)\n",
    "    start_time = int((datetime.now() - timedelta(days=7)).timestamp() * 1000)\n",
    "    \n",
    "    # Obtener el volumen para cada símbolo\n",
    "    volumes = []\n",
    "    for symbol in usdt_symbols:\n",
    "        klines_url = f\"https://api.binance.com/api/v3/klines?symbol={symbol}&interval=1d&startTime={start_time}\"\n",
    "        klines_response = requests.get(klines_url)\n",
    "        klines_data = klines_response.json()\n",
    "        \n",
    "        # Calcular el volumen promedio\n",
    "        total_volume = sum(float(kline[7]) for kline in klines_data) #7 es quote asset volume\n",
    "        avg_volume = total_volume / len(klines_data) if klines_data else 0\n",
    "        volumes.append((symbol[:-4], avg_volume))  # Removemos 'USDT' del símbolo\n",
    "    \n",
    "    # Ordenar por volumen descendente y tomar los primeros 'count'\n",
    "    top_volumes = sorted(volumes, key=lambda x: x[1], reverse=True)[:count]\n",
    "    \n",
    "    return top_volumes  # Ahora retornamos la lista completa de tuplas (moneda, volumen)\n",
    "\n",
    "def get_top_volume_coins_df_api(count=200):\n",
    "    volumes = get_top_volume_coins_list_api(count)\n",
    "    df = pd.DataFrame(volumes, columns=['coin', 'average volume last 7 days'])\n",
    "\n",
    "    # Ordenar el DataFrame antes de formatear los números\n",
    "    df = df.sort_values('average volume last 7 days', ascending=False)\n",
    "\n",
    "   # Formatear los números después de ordenar\n",
    "    df['average volume last 7 days'] = df['average volume last 7 days'].apply(lambda x: f'{x:.2f}')\n",
    "\n",
    "    return df"
   ]
  },
  {
   "cell_type": "code",
   "execution_count": 3,
   "metadata": {},
   "outputs": [],
   "source": [
    "api_top_coins_list = get_top_volume_coins_list_api(coins)\n",
    "#api_top_coins_list"
   ]
  },
  {
   "cell_type": "code",
   "execution_count": 4,
   "metadata": {},
   "outputs": [
    {
     "data": {
      "text/html": [
       "<div>\n",
       "<style scoped>\n",
       "    .dataframe tbody tr th:only-of-type {\n",
       "        vertical-align: middle;\n",
       "    }\n",
       "\n",
       "    .dataframe tbody tr th {\n",
       "        vertical-align: top;\n",
       "    }\n",
       "\n",
       "    .dataframe thead th {\n",
       "        text-align: right;\n",
       "    }\n",
       "</style>\n",
       "<table border=\"1\" class=\"dataframe\">\n",
       "  <thead>\n",
       "    <tr style=\"text-align: right;\">\n",
       "      <th></th>\n",
       "      <th>coin</th>\n",
       "      <th>average volume last 7 days</th>\n",
       "    </tr>\n",
       "  </thead>\n",
       "  <tbody>\n",
       "    <tr>\n",
       "      <th>0</th>\n",
       "      <td>BTC</td>\n",
       "      <td>1426550813.55</td>\n",
       "    </tr>\n",
       "    <tr>\n",
       "      <th>1</th>\n",
       "      <td>ETH</td>\n",
       "      <td>644129078.29</td>\n",
       "    </tr>\n",
       "    <tr>\n",
       "      <th>2</th>\n",
       "      <td>SOL</td>\n",
       "      <td>357015751.11</td>\n",
       "    </tr>\n",
       "  </tbody>\n",
       "</table>\n",
       "</div>"
      ],
      "text/plain": [
       "  coin average volume last 7 days\n",
       "0  BTC              1426550813.55\n",
       "1  ETH               644129078.29\n",
       "2  SOL               357015751.11"
      ]
     },
     "execution_count": 4,
     "metadata": {},
     "output_type": "execute_result"
    }
   ],
   "source": [
    "api_top_coins_df = get_top_volume_coins_df_api(coins)\n",
    "api_top_coins_df"
   ]
  },
  {
   "cell_type": "code",
   "execution_count": null,
   "metadata": {},
   "outputs": [],
   "source": []
  },
  {
   "cell_type": "markdown",
   "metadata": {},
   "source": [
    "#### Conclusion\n",
    "Mejor uso el API directamente, ya que evito que CS50 tenga que instalar un paquete adicional de python. \n",
    "\n",
    "Las variables que pasan a la siguiente etapa son: \n",
    "\n",
    "\n",
    "api_top_coins_df \n",
    "\n",
    "api_top_coins_list\n",
    "\n",
    "Trabajare con la lista pero primero tengo que eliminar los valores de volumen, que hago a continuacion"
   ]
  },
  {
   "cell_type": "code",
   "execution_count": 5,
   "metadata": {},
   "outputs": [
    {
     "data": {
      "text/plain": [
       "['BTC', 'ETH', 'SOL']"
      ]
     },
     "execution_count": 5,
     "metadata": {},
     "output_type": "execute_result"
    }
   ],
   "source": [
    "# Get the ticker list for coins.\n",
    "top_coins = [item[0] for item in api_top_coins_list]\n",
    "top_coins"
   ]
  },
  {
   "cell_type": "markdown",
   "metadata": {},
   "source": [
    "## 2- Obtener klines para cada criptomoeda"
   ]
  },
  {
   "cell_type": "markdown",
   "metadata": {},
   "source": [
    "#### USANDO EL WRAPER"
   ]
  },
  {
   "cell_type": "code",
   "execution_count": 6,
   "metadata": {},
   "outputs": [
    {
     "name": "stdout",
     "output_type": "stream",
     "text": [
      "Start timestamp: 1725235200.0\n",
      "Fetching data for BTCBTC...\n",
      "Error al obtener datos para BTCBTC.\n",
      "APIError(code=-1121): Invalid symbol.\n",
      "Fetching data for ETHBTC...\n",
      "Datos de ETH guardados en data/ETHBTC_df.csv\n",
      "Fetching data for SOLBTC...\n",
      "Datos de SOL guardados en data/SOLBTC_df.csv\n"
     ]
    }
   ],
   "source": [
    "# Obtiene klines con la lista top_coins, el par BTC y el par USDT\n",
    "# FUNCION QUE USA EL WRAPER\n",
    "import pandas as pd\n",
    "from binance.client import Client\n",
    "from datetime import datetime, timedelta, timezone\n",
    "import os\n",
    "\n",
    "\n",
    "client = Client()\n",
    "\n",
    "not_available_btcpair = []\n",
    "# FUNCION PARA BTC PAIRS\n",
    "def get_klines_btcpair(crypto_list, weeks_back: int):\n",
    "    \"\"\"\n",
    "    loopback: número de días a retroceder desde la fecha de referencia\n",
    "    reference_low: fecha de referencia en formato \"dd-mm-yyyy\"\n",
    "    \n",
    "    weeks_back: int que indica la cantidad de semanas atras a considerar. 0 para esta semana, 1 para la semana anterior, etc.\n",
    "    \"\"\"\n",
    "    today = datetime.now(timezone.utc)  # Asegurarse de trabajar en UTC\n",
    "    \n",
    "    # Calcular el lunes de la semana actual\n",
    "    monday_this_week = today - timedelta(days=today.weekday())\n",
    "\n",
    "    # Retroceder las semanas indicadas\n",
    "    target_monday = monday_this_week - timedelta(weeks=weeks_back)\n",
    "\n",
    "    # Establecer la hora a 00:00 en UTC\n",
    "    target_monday_at_midnight = target_monday.replace(hour=0, minute=0, second=0, microsecond=0)\n",
    "\n",
    "    # Retornar como timestamp en UTC en str\n",
    "    start_timestamp = str(target_monday_at_midnight.timestamp())\n",
    "    print(f\"Start timestamp: {start_timestamp}\")\n",
    "\n",
    "\n",
    "    dataframes = []\n",
    "\n",
    "    # Crear la carpeta 'data' si no existe\n",
    "    if not os.path.exists('data'):\n",
    "        os.makedirs('data')\n",
    "\n",
    "    for crypto in crypto_list:\n",
    "        try:\n",
    "            print(f\"Fetching data for {crypto}BTC...\")\n",
    "            klines = client.get_historical_klines(\n",
    "                symbol=f\"{crypto}BTC\", # for BTC pairs\n",
    "                #symbol=f\"{crypto}USDT\", # for USDT pairs\n",
    "                interval=Client.KLINE_INTERVAL_1DAY,\n",
    "                start_str=start_timestamp\n",
    "            )\n",
    "\n",
    "            # Crear el DataFrame\n",
    "            df = pd.DataFrame(klines, columns=['timestamp', 'open', 'high', 'low', 'close', 'volume', 'close_time', 'quote_asset_volume', 'number_of_trades', 'taker_buy_base_asset_volume', 'taker_buy_quote_asset_volume', 'ignore'])\n",
    "            \n",
    "            # Convertir el timestamp a datetime\n",
    "            df['timestamp'] = pd.to_datetime(df['timestamp'], unit='ms')\n",
    "            \n",
    "            # Establecer el timestamp como índice\n",
    "            df.set_index('timestamp', inplace=True)\n",
    "            \n",
    "            # Convertir las columnas necesarias a float\n",
    "            for col in ['open', 'high', 'low', 'close', 'volume']:\n",
    "                df[col] = df[col].astype(float)\n",
    "            \n",
    "            # Guardar el DataFrame como CSV\n",
    "            filename = f\"data/{crypto}BTC_df.csv\"\n",
    "            df.to_csv(filename)\n",
    "            \n",
    "            dataframes.append(df)\n",
    "            print(f\"Datos de {crypto} guardados en {filename}\")\n",
    "\n",
    "        except Exception as e:\n",
    "            print(f\"Error al obtener datos para {crypto}BTC.\")\n",
    "            print(e)\n",
    "            not_available_btcpair.append(crypto)\n",
    "            continue\n",
    "\n",
    "    return dataframes\n",
    "\n",
    "#ejemplo de uso\n",
    "dataframes = get_klines_btcpair(top_coins, 1)"
   ]
  },
  {
   "cell_type": "code",
   "execution_count": 7,
   "metadata": {},
   "outputs": [
    {
     "data": {
      "text/plain": [
       "['BTC']"
      ]
     },
     "execution_count": 7,
     "metadata": {},
     "output_type": "execute_result"
    }
   ],
   "source": [
    "not_available_btcpair"
   ]
  },
  {
   "cell_type": "markdown",
   "metadata": {},
   "source": [
    "#### USANDO LA API PELADA"
   ]
  },
  {
   "cell_type": "code",
   "execution_count": 8,
   "metadata": {},
   "outputs": [],
   "source": [
    "# Obtiene klines con la lista top_coins, el par BTC y el par USDT\n",
    "# FUNCION QUE USA EL WRAPER\n",
    "import pandas as pd\n",
    "from binance.client import Client\n",
    "from datetime import datetime, timedelta, timezone\n",
    "import os\n",
    "\n",
    "\n",
    "client = Client()\n",
    "\n",
    "not_available_btcpair = []\n",
    "# FUNCION PARA BTC PAIRS\n",
    "def get_klines_btcpair_api(crypto_list, weeks_back: int):\n",
    "    \"\"\"\n",
    "    loopback: número de días a retroceder desde la fecha de referencia\n",
    "    reference_low: fecha de referencia en formato \"dd-mm-yyyy\"\n",
    "    \n",
    "    weeks_back: int que indica la cantidad de semanas atras a considerar. 0 para esta semana, 1 para la semana anterior, etc.\n",
    "    \"\"\"\n",
    "    today = datetime.now(timezone.utc)  # Asegurarse de trabajar en UTC\n",
    "    \n",
    "    # Calcular el lunes de la semana actual\n",
    "    monday_this_week = today - timedelta(days=today.weekday())\n",
    "\n",
    "    # Retroceder las semanas indicadas\n",
    "    target_monday = monday_this_week - timedelta(weeks=weeks_back)\n",
    "\n",
    "    # Establecer la hora a 00:00 en UTC\n",
    "    target_monday_at_midnight = target_monday.replace(hour=0, minute=0, second=0, microsecond=0)\n",
    "\n",
    "    # Retornar como timestamp en UTC en str\n",
    "    start_timestamp = str(target_monday_at_midnight.timestamp())\n",
    "\n",
    "\n",
    "    dataframes = []\n",
    "\n",
    "    # Crear la carpeta 'data' si no existe\n",
    "    if not os.path.exists('data'):\n",
    "        os.makedirs('data')\n",
    "\n",
    "    for crypto in crypto_list:\n",
    "        try:\n",
    "            print(f\"Fetching data for {crypto}BTC...\")\n",
    "            klines = client.get_historical_klines(\n",
    "                symbol=f\"{crypto}BTC\", # for BTC pairs\n",
    "                #symbol=f\"{crypto}USDT\", # for USDT pairs\n",
    "                interval=Client.KLINE_INTERVAL_1DAY,\n",
    "                start_str=start_timestamp\n",
    "            )\n",
    "\n",
    "            # Crear el DataFrame\n",
    "            df = pd.DataFrame(klines, columns=['timestamp', 'open', 'high', 'low', 'close', 'volume', 'close_time', 'quote_asset_volume', 'number_of_trades', 'taker_buy_base_asset_volume', 'taker_buy_quote_asset_volume', 'ignore'])\n",
    "            \n",
    "            # Convertir el timestamp a datetime\n",
    "            df['timestamp'] = pd.to_datetime(df['timestamp'], unit='ms')\n",
    "            \n",
    "            # Establecer el timestamp como índice\n",
    "            df.set_index('timestamp', inplace=True)\n",
    "            \n",
    "            # Convertir las columnas necesarias a float\n",
    "            for col in ['open', 'high', 'low', 'close', 'volume']:\n",
    "                df[col] = df[col].astype(float)\n",
    "            \n",
    "            # Guardar el DataFrame como CSV\n",
    "            filename = f\"data/{crypto}BTC_df.csv\"\n",
    "            df.to_csv(filename)\n",
    "            \n",
    "            dataframes.append(df)\n",
    "            print(f\"Datos de {crypto} guardados en {filename}\")\n",
    "\n",
    "        except Exception as e:\n",
    "            print(f\"Error al obtener datos para {crypto}BTC.\")\n",
    "            print(e)\n",
    "            not_available_btcpair.append(crypto)\n",
    "            continue\n",
    "\n",
    "    return dataframes\n",
    "\n",
    "#ejemplo de uso\n",
    "#dataframes = get_klines_btcpair(top_coins, 1)"
   ]
  },
  {
   "cell_type": "markdown",
   "metadata": {},
   "source": [
    "## Analisis core de las monedas mas importantes de Binance"
   ]
  },
  {
   "cell_type": "code",
   "execution_count": 10,
   "metadata": {},
   "outputs": [],
   "source": [
    "import pandas as pd\n",
    "import os\n",
    "from datetime import datetime\n",
    "\n",
    "def analyze_momentum(pivot_low_date, reference_high_date):\n",
    "    # Convertir las fechas de string a datetime, fechas en formato DD-MM-YYYY\n",
    "    pivot_low_date = datetime.strptime(pivot_low_date, \"%d-%m-%Y\")\n",
    "    reference_high_date = datetime.strptime(reference_high_date, \"%d-%m-%Y\")\n",
    "\n",
    "    results = []\n",
    "\n",
    "    # Leer todos los archivos CSV en la carpeta 'data'\n",
    "    for filename in os.listdir('data'):\n",
    "        print(filename)\n",
    "\n",
    "        if filename.endswith('.csv'):\n",
    "            coin = filename.split('_')[0]  # Extraer el nombre de la moneda del nombre del archivo\n",
    "            df = pd.read_csv(os.path.join('data', filename), index_col='timestamp', parse_dates=True)\n",
    "\n",
    "            # Asegurarse de que las columnas necesarias son de tipo float\n",
    "            for col in ['low', 'high']:\n",
    "                df[col] = df[col].astype(float)\n",
    "\n",
    "            # Manejo de excepciones si no se encuentra la fecha\n",
    "            try:\n",
    "\n",
    "                # Encontrar el pivot_low\n",
    "                pivot_low = df.loc[pivot_low_date.strftime(\"%Y-%m-%d\"), 'low']\n",
    "\n",
    "                # Encontrar el max_high después del pivot_low_date\n",
    "                max_high = df.loc[pivot_low_date:, 'high'].max()\n",
    "\n",
    "                # Encontrar el reference_high\n",
    "                reference_high = df.loc[reference_high_date.strftime(\"%Y-%m-%d\"), 'high']\n",
    "\n",
    "                # Calcular el cambio porcentual\n",
    "                change_pct = ((reference_high - pivot_low) / pivot_low) * 100\n",
    "\n",
    "                results.append({\n",
    "                    'coin': coin,\n",
    "                    'pivot_low': pivot_low,\n",
    "                    'max_high': max_high,\n",
    "                    'reference_high': reference_high,\n",
    "                    'change_pct': change_pct\n",
    "                })\n",
    "            except KeyError:\n",
    "                print (f\"se ha encontrado un keyerror para {filename}\")\n",
    "\n",
    "    # Crear el DataFrame final\n",
    "    result_df = pd.DataFrame(results)\n",
    "\n",
    "    # Ordenar el DataFrame por change_pct de mayor a menor\n",
    "    result_df = result_df.sort_values('change_pct', ascending=False)\n",
    "\n",
    "    return result_df\n",
    "\n",
    "# Ejemplo de uso:\n",
    "#aa_df = analyze_momentum(pivot_low_date=\"05-08-2024\", reference_high_date=\"25-08-2024\")\n"
   ]
  },
  {
   "cell_type": "code",
   "execution_count": null,
   "metadata": {},
   "outputs": [],
   "source": []
  },
  {
   "cell_type": "code",
   "execution_count": null,
   "metadata": {},
   "outputs": [],
   "source": []
  }
 ],
 "metadata": {
  "kernelspec": {
   "display_name": "Python 3",
   "language": "python",
   "name": "python3"
  },
  "language_info": {
   "codemirror_mode": {
    "name": "ipython",
    "version": 3
   },
   "file_extension": ".py",
   "mimetype": "text/x-python",
   "name": "python",
   "nbconvert_exporter": "python",
   "pygments_lexer": "ipython3",
   "version": "3.9.6"
  }
 },
 "nbformat": 4,
 "nbformat_minor": 2
}
