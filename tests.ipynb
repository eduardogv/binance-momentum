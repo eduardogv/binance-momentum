{
 "cells": [
  {
   "cell_type": "code",
   "execution_count": 21,
   "metadata": {},
   "outputs": [],
   "source": [
    "import requests\n",
    "import pandas as pd\n",
    "from datetime import datetime, timedelta"
   ]
  },
  {
   "cell_type": "code",
   "execution_count": null,
   "metadata": {},
   "outputs": [],
   "source": []
  },
  {
   "cell_type": "code",
   "execution_count": 22,
   "metadata": {},
   "outputs": [],
   "source": [
    "symbols_url = \"https://api.binance.com/api/v3/exchangeInfo\"\n",
    "symbols_response = requests.get(symbols_url)\n",
    "symbols_data = symbols_response.json()\n",
    "usdt_symbols = [symbol['symbol'] for symbol in symbols_data['symbols'] if symbol['symbol'].endswith('USDT')]\n",
    "\n",
    "#513 symbols"
   ]
  },
  {
   "cell_type": "code",
   "execution_count": 23,
   "metadata": {},
   "outputs": [
    {
     "data": {
      "text/plain": [
       "1724831281872"
      ]
     },
     "execution_count": 23,
     "metadata": {},
     "output_type": "execute_result"
    }
   ],
   "source": [
    "int((datetime.now() - timedelta(days=7)).timestamp() * 1000)"
   ]
  },
  {
   "cell_type": "code",
   "execution_count": 24,
   "metadata": {},
   "outputs": [
    {
     "data": {
      "text/plain": [
       "datetime.datetime(2024, 9, 4, 2, 48, 5, 927634)"
      ]
     },
     "execution_count": 24,
     "metadata": {},
     "output_type": "execute_result"
    }
   ],
   "source": [
    "datetime.now()"
   ]
  },
  {
   "cell_type": "code",
   "execution_count": null,
   "metadata": {},
   "outputs": [],
   "source": []
  },
  {
   "cell_type": "code",
   "execution_count": 25,
   "metadata": {},
   "outputs": [
    {
     "name": "stdout",
     "output_type": "stream",
     "text": [
      "2024-08-28 02:48:01.872000\n"
     ]
    }
   ],
   "source": [
    "# conversor de unix epoch time para datetime\n",
    "import datetime\n",
    "\n",
    "# Convertir el timestamp a segundos\n",
    "timestamp = 1724831281872 / 1000\n",
    "\n",
    "# Convertir a fecha y hora\n",
    "fecha_hora = datetime.datetime.fromtimestamp(timestamp)\n",
    "\n",
    "print(fecha_hora)"
   ]
  },
  {
   "cell_type": "code",
   "execution_count": 9,
   "metadata": {},
   "outputs": [
    {
     "data": {
      "text/plain": [
       "513"
      ]
     },
     "execution_count": 9,
     "metadata": {},
     "output_type": "execute_result"
    }
   ],
   "source": [
    "import requests\n",
    "#eliminar las stablecoins\n",
    "symbols_url = \"https://api.binance.com/api/v3/exchangeInfo\"\n",
    "symbols_response = requests.get(symbols_url)\n",
    "symbols_data = symbols_response.json()\n",
    "\n",
    "# Filtrar solo los pares con USDT\n",
    "usdt_symbols = [symbol['symbol'] for symbol in symbols_data['symbols'] if symbol['symbol'].endswith('USDT')]\n",
    "\n",
    "stablecoins = ['USDCUSDT','FDUSDUSDT']\n",
    "\n",
    "\n",
    "len(usdt_symbols)"
   ]
  },
  {
   "cell_type": "code",
   "execution_count": 10,
   "metadata": {},
   "outputs": [],
   "source": [
    "#elimino stablecoins de usdt_symbols\n",
    "usdt_symbols = [symbol for symbol in usdt_symbols if symbol not in stablecoins]"
   ]
  },
  {
   "cell_type": "code",
   "execution_count": 11,
   "metadata": {},
   "outputs": [
    {
     "data": {
      "text/plain": [
       "511"
      ]
     },
     "execution_count": 11,
     "metadata": {},
     "output_type": "execute_result"
    }
   ],
   "source": [
    "len(usdt_symbols)"
   ]
  },
  {
   "cell_type": "code",
   "execution_count": 18,
   "metadata": {},
   "outputs": [],
   "source": [
    "import pandas as pd\n",
    "from binance.client import Client\n",
    "from datetime import datetime, timedelta\n",
    "import os\n",
    "import sqlite3\n",
    "client = Client()\n",
    "\n",
    "klines = client.get_historical_klines(\n",
    "            symbol=f\"SOLBTC\", # for BTC pairs\n",
    "            #symbol=f\"{crypto}USDT\", \n",
    "            interval=Client.KLINE_INTERVAL_1DAY,\n",
    "            limit = 10\n",
    "        )"
   ]
  },
  {
   "cell_type": "code",
   "execution_count": 19,
   "metadata": {},
   "outputs": [
    {
     "data": {
      "text/plain": [
       "[[1725062400000,\n",
       "  '0.00233400',\n",
       "  '0.00234250',\n",
       "  '0.00228700',\n",
       "  '0.00229510',\n",
       "  '83690.29100000',\n",
       "  1725148799999,\n",
       "  '193.82373007',\n",
       "  52445,\n",
       "  '36717.36200000',\n",
       "  '85.06704158',\n",
       "  '0'],\n",
       " [1725148800000,\n",
       "  '0.00229510',\n",
       "  '0.00232210',\n",
       "  '0.00223120',\n",
       "  '0.00224310',\n",
       "  '222471.86300000',\n",
       "  1725235199999,\n",
       "  '506.41930997',\n",
       "  131878,\n",
       "  '107888.51100000',\n",
       "  '245.66450632',\n",
       "  '0'],\n",
       " [1725235200000,\n",
       "  '0.00224300',\n",
       "  '0.00228750',\n",
       "  '0.00221100',\n",
       "  '0.00228200',\n",
       "  '234331.17200000',\n",
       "  1725321599999,\n",
       "  '528.04988413',\n",
       "  116766,\n",
       "  '114646.29600000',\n",
       "  '258.50224051',\n",
       "  '0'],\n",
       " [1725321600000,\n",
       "  '0.00228200',\n",
       "  '0.00230150',\n",
       "  '0.00221310',\n",
       "  '0.00221880',\n",
       "  '178785.10200000',\n",
       "  1725407999999,\n",
       "  '404.75233860',\n",
       "  87957,\n",
       "  '82491.93100000',\n",
       "  '186.76351528',\n",
       "  '0'],\n",
       " [1725408000000,\n",
       "  '0.00221880',\n",
       "  '0.00232490',\n",
       "  '0.00220000',\n",
       "  '0.00230520',\n",
       "  '364845.32700000',\n",
       "  1725494399999,\n",
       "  '832.70143775',\n",
       "  158501,\n",
       "  '192215.68200000',\n",
       "  '439.02093608',\n",
       "  '0'],\n",
       " [1725494400000,\n",
       "  '0.00230490',\n",
       "  '0.00236700',\n",
       "  '0.00228570',\n",
       "  '0.00230390',\n",
       "  '294577.70800000',\n",
       "  1725580799999,\n",
       "  '684.78109841',\n",
       "  156431,\n",
       "  '152135.83900000',\n",
       "  '353.68352182',\n",
       "  '0'],\n",
       " [1725580800000,\n",
       "  '0.00230340',\n",
       "  '0.00237120',\n",
       "  '0.00228620',\n",
       "  '0.00231690',\n",
       "  '441518.16400000',\n",
       "  1725667199999,\n",
       "  '1029.18038239',\n",
       "  209207,\n",
       "  '222260.95700000',\n",
       "  '518.34036185',\n",
       "  '0'],\n",
       " [1725667200000,\n",
       "  '0.00231700',\n",
       "  '0.00236680',\n",
       "  '0.00230980',\n",
       "  '0.00235850',\n",
       "  '142281.01000000',\n",
       "  1725753599999,\n",
       "  '333.29469366',\n",
       "  82499,\n",
       "  '70228.19000000',\n",
       "  '164.51608355',\n",
       "  '0'],\n",
       " [1725753600000,\n",
       "  '0.00235860',\n",
       "  '0.00239600',\n",
       "  '0.00235010',\n",
       "  '0.00237110',\n",
       "  '156780.76300000',\n",
       "  1725839999999,\n",
       "  '371.66149914',\n",
       "  76842,\n",
       "  '85579.26800000',\n",
       "  '202.82017190',\n",
       "  '0'],\n",
       " [1725840000000,\n",
       "  '0.00237150',\n",
       "  '0.00237550',\n",
       "  '0.00233000',\n",
       "  '0.00233980',\n",
       "  '46975.28900000',\n",
       "  1725926399999,\n",
       "  '110.33951771',\n",
       "  17117,\n",
       "  '21266.02000000',\n",
       "  '49.87428797',\n",
       "  '0']]"
      ]
     },
     "execution_count": 19,
     "metadata": {},
     "output_type": "execute_result"
    }
   ],
   "source": [
    "klines"
   ]
  },
  {
   "cell_type": "code",
   "execution_count": null,
   "metadata": {},
   "outputs": [],
   "source": []
  },
  {
   "cell_type": "code",
   "execution_count": null,
   "metadata": {},
   "outputs": [],
   "source": []
  }
 ],
 "metadata": {
  "kernelspec": {
   "display_name": "Python 3",
   "language": "python",
   "name": "python3"
  },
  "language_info": {
   "codemirror_mode": {
    "name": "ipython",
    "version": 3
   },
   "file_extension": ".py",
   "mimetype": "text/x-python",
   "name": "python",
   "nbconvert_exporter": "python",
   "pygments_lexer": "ipython3",
   "version": "3.9.6"
  }
 },
 "nbformat": 4,
 "nbformat_minor": 2
}
