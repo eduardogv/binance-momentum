{
 "cells": [
  {
   "cell_type": "code",
   "execution_count": 21,
   "metadata": {},
   "outputs": [],
   "source": [
    "import requests\n",
    "import pandas as pd\n",
    "from datetime import datetime, timedelta"
   ]
  },
  {
   "cell_type": "code",
   "execution_count": null,
   "metadata": {},
   "outputs": [],
   "source": []
  },
  {
   "cell_type": "code",
   "execution_count": 22,
   "metadata": {},
   "outputs": [],
   "source": [
    "symbols_url = \"https://api.binance.com/api/v3/exchangeInfo\"\n",
    "symbols_response = requests.get(symbols_url)\n",
    "symbols_data = symbols_response.json()\n",
    "usdt_symbols = [symbol['symbol'] for symbol in symbols_data['symbols'] if symbol['symbol'].endswith('USDT')]\n",
    "\n",
    "#513 symbols"
   ]
  },
  {
   "cell_type": "code",
   "execution_count": 23,
   "metadata": {},
   "outputs": [
    {
     "data": {
      "text/plain": [
       "1724831281872"
      ]
     },
     "execution_count": 23,
     "metadata": {},
     "output_type": "execute_result"
    }
   ],
   "source": [
    "int((datetime.now() - timedelta(days=7)).timestamp() * 1000)"
   ]
  },
  {
   "cell_type": "code",
   "execution_count": 24,
   "metadata": {},
   "outputs": [
    {
     "data": {
      "text/plain": [
       "datetime.datetime(2024, 9, 4, 2, 48, 5, 927634)"
      ]
     },
     "execution_count": 24,
     "metadata": {},
     "output_type": "execute_result"
    }
   ],
   "source": [
    "datetime.now()"
   ]
  },
  {
   "cell_type": "code",
   "execution_count": null,
   "metadata": {},
   "outputs": [],
   "source": []
  },
  {
   "cell_type": "code",
   "execution_count": 25,
   "metadata": {},
   "outputs": [
    {
     "name": "stdout",
     "output_type": "stream",
     "text": [
      "2024-08-28 02:48:01.872000\n"
     ]
    }
   ],
   "source": [
    "# conversor de unix epoch time para datetime\n",
    "import datetime\n",
    "\n",
    "# Convertir el timestamp a segundos\n",
    "timestamp = 1724831281872 / 1000\n",
    "\n",
    "# Convertir a fecha y hora\n",
    "fecha_hora = datetime.datetime.fromtimestamp(timestamp)\n",
    "\n",
    "print(fecha_hora)"
   ]
  },
  {
   "cell_type": "code",
   "execution_count": 9,
   "metadata": {},
   "outputs": [
    {
     "data": {
      "text/plain": [
       "513"
      ]
     },
     "execution_count": 9,
     "metadata": {},
     "output_type": "execute_result"
    }
   ],
   "source": [
    "import requests\n",
    "#eliminar las stablecoins\n",
    "symbols_url = \"https://api.binance.com/api/v3/exchangeInfo\"\n",
    "symbols_response = requests.get(symbols_url)\n",
    "symbols_data = symbols_response.json()\n",
    "\n",
    "# Filtrar solo los pares con USDT\n",
    "usdt_symbols = [symbol['symbol'] for symbol in symbols_data['symbols'] if symbol['symbol'].endswith('USDT')]\n",
    "\n",
    "stablecoins = ['USDCUSDT','FDUSDUSDT']\n",
    "\n",
    "\n",
    "len(usdt_symbols)\n",
    "\n"
   ]
  },
  {
   "cell_type": "code",
   "execution_count": 10,
   "metadata": {},
   "outputs": [],
   "source": [
    "#elimino stablecoins de usdt_symbols\n",
    "usdt_symbols = [symbol for symbol in usdt_symbols if symbol not in stablecoins]"
   ]
  },
  {
   "cell_type": "code",
   "execution_count": 11,
   "metadata": {},
   "outputs": [
    {
     "data": {
      "text/plain": [
       "511"
      ]
     },
     "execution_count": 11,
     "metadata": {},
     "output_type": "execute_result"
    }
   ],
   "source": [
    "len(usdt_symbols)"
   ]
  },
  {
   "cell_type": "code",
   "execution_count": 18,
   "metadata": {},
   "outputs": [],
   "source": [
    "import pandas as pd\n",
    "from binance.client import Client\n",
    "from datetime import datetime, timedelta\n",
    "import os\n",
    "import sqlite3\n",
    "client = Client()\n",
    "\n",
    "klines = client.get_historical_klines(\n",
    "            symbol=f\"SOLBTC\", # for BTC pairs\n",
    "            #symbol=f\"{crypto}USDT\", \n",
    "            interval=Client.KLINE_INTERVAL_1DAY,\n",
    "            limit = 10\n",
    "        )"
   ]
  },
  {
   "cell_type": "code",
   "execution_count": 19,
   "metadata": {},
   "outputs": [
    {
     "data": {
      "text/plain": [
       "[[1725062400000,\n",
       "  '0.00233400',\n",
       "  '0.00234250',\n",
       "  '0.00228700',\n",
       "  '0.00229510',\n",
       "  '83690.29100000',\n",
       "  1725148799999,\n",
       "  '193.82373007',\n",
       "  52445,\n",
       "  '36717.36200000',\n",
       "  '85.06704158',\n",
       "  '0'],\n",
       " [1725148800000,\n",
       "  '0.00229510',\n",
       "  '0.00232210',\n",
       "  '0.00223120',\n",
       "  '0.00224310',\n",
       "  '222471.86300000',\n",
       "  1725235199999,\n",
       "  '506.41930997',\n",
       "  131878,\n",
       "  '107888.51100000',\n",
       "  '245.66450632',\n",
       "  '0'],\n",
       " [1725235200000,\n",
       "  '0.00224300',\n",
       "  '0.00228750',\n",
       "  '0.00221100',\n",
       "  '0.00228200',\n",
       "  '234331.17200000',\n",
       "  1725321599999,\n",
       "  '528.04988413',\n",
       "  116766,\n",
       "  '114646.29600000',\n",
       "  '258.50224051',\n",
       "  '0'],\n",
       " [1725321600000,\n",
       "  '0.00228200',\n",
       "  '0.00230150',\n",
       "  '0.00221310',\n",
       "  '0.00221880',\n",
       "  '178785.10200000',\n",
       "  1725407999999,\n",
       "  '404.75233860',\n",
       "  87957,\n",
       "  '82491.93100000',\n",
       "  '186.76351528',\n",
       "  '0'],\n",
       " [1725408000000,\n",
       "  '0.00221880',\n",
       "  '0.00232490',\n",
       "  '0.00220000',\n",
       "  '0.00230520',\n",
       "  '364845.32700000',\n",
       "  1725494399999,\n",
       "  '832.70143775',\n",
       "  158501,\n",
       "  '192215.68200000',\n",
       "  '439.02093608',\n",
       "  '0'],\n",
       " [1725494400000,\n",
       "  '0.00230490',\n",
       "  '0.00236700',\n",
       "  '0.00228570',\n",
       "  '0.00230390',\n",
       "  '294577.70800000',\n",
       "  1725580799999,\n",
       "  '684.78109841',\n",
       "  156431,\n",
       "  '152135.83900000',\n",
       "  '353.68352182',\n",
       "  '0'],\n",
       " [1725580800000,\n",
       "  '0.00230340',\n",
       "  '0.00237120',\n",
       "  '0.00228620',\n",
       "  '0.00231690',\n",
       "  '441518.16400000',\n",
       "  1725667199999,\n",
       "  '1029.18038239',\n",
       "  209207,\n",
       "  '222260.95700000',\n",
       "  '518.34036185',\n",
       "  '0'],\n",
       " [1725667200000,\n",
       "  '0.00231700',\n",
       "  '0.00236680',\n",
       "  '0.00230980',\n",
       "  '0.00235850',\n",
       "  '142281.01000000',\n",
       "  1725753599999,\n",
       "  '333.29469366',\n",
       "  82499,\n",
       "  '70228.19000000',\n",
       "  '164.51608355',\n",
       "  '0'],\n",
       " [1725753600000,\n",
       "  '0.00235860',\n",
       "  '0.00239600',\n",
       "  '0.00235010',\n",
       "  '0.00237110',\n",
       "  '156780.76300000',\n",
       "  1725839999999,\n",
       "  '371.66149914',\n",
       "  76842,\n",
       "  '85579.26800000',\n",
       "  '202.82017190',\n",
       "  '0'],\n",
       " [1725840000000,\n",
       "  '0.00237150',\n",
       "  '0.00237550',\n",
       "  '0.00233000',\n",
       "  '0.00233980',\n",
       "  '46975.28900000',\n",
       "  1725926399999,\n",
       "  '110.33951771',\n",
       "  17117,\n",
       "  '21266.02000000',\n",
       "  '49.87428797',\n",
       "  '0']]"
      ]
     },
     "execution_count": 19,
     "metadata": {},
     "output_type": "execute_result"
    }
   ],
   "source": [
    "klines"
   ]
  },
  {
   "cell_type": "code",
   "execution_count": null,
   "metadata": {},
   "outputs": [],
   "source": []
  },
  {
   "cell_type": "code",
   "execution_count": 2,
   "metadata": {},
   "outputs": [
    {
     "data": {
      "text/plain": [
       "datetime.datetime(2024, 9, 10, 22, 37, 10, 211086)"
      ]
     },
     "execution_count": 2,
     "metadata": {},
     "output_type": "execute_result"
    }
   ],
   "source": [
    "datetime.now()"
   ]
  },
  {
   "cell_type": "code",
   "execution_count": 62,
   "metadata": {},
   "outputs": [
    {
     "name": "stdout",
     "output_type": "stream",
     "text": [
      "este lunes:  2024-09-09 01:57:43.498635+00:00\n",
      "target monday at midnight:  2024-09-02 00:00:00+00:00\n",
      "target monday at midnight timestamp:  1725235200.0\n",
      "target sunday at midnight:  2024-09-08 00:00:00+00:00\n",
      "target sunday at midnight timestamp:  1725753600.0\n"
     ]
    },
    {
     "data": {
      "text/plain": [
       "datetime.datetime(2024, 9, 2, 0, 0, tzinfo=datetime.timezone.utc)"
      ]
     },
     "execution_count": 62,
     "metadata": {},
     "output_type": "execute_result"
    }
   ],
   "source": [
    "from datetime import datetime, timedelta, timezone\n",
    "#funciona agregar a la funcion klines\n",
    "def calcular_fecha_lunes_timestamp(weeks_back: int):\n",
    "    # Obtener el día de hoy\n",
    "    today = datetime.now(timezone.utc)  # Asegurarse de trabajar en UTC\n",
    "    \n",
    "    # Calcular el lunes de la semana actual\n",
    "    monday_this_week = today - timedelta(days=today.weekday())\n",
    "    print('este lunes: ', monday_this_week)\n",
    "\n",
    "    # Retroceder las semanas indicadas\n",
    "    target_monday = monday_this_week - timedelta(weeks=weeks_back)\n",
    "\n",
    "    # Establecer la hora a 00:00 en UTC\n",
    "    target_monday_at_midnight = target_monday.replace(hour=0, minute=0, second=0, microsecond=0)\n",
    "    print('target monday at midnight: ', target_monday_at_midnight)\n",
    "    print('target monday at midnight timestamp: ', target_monday_at_midnight.timestamp())\n",
    "\n",
    "    # Calcular el domingo\n",
    "    target_sunday = target_monday + timedelta(days=6)\n",
    "    target_sunday_at_midnight = target_sunday.replace(hour=0, minute=0, second=0, microsecond=0)\n",
    "    print('target sunday at midnight: ', target_sunday_at_midnight)\n",
    "    print('target sunday at midnight timestamp: ', target_sunday_at_midnight.timestamp())\n",
    "\n",
    "    # Retornar como timestamp en UTC\n",
    "    #return target_monday_at_midnight.timestamp()\n",
    "    return target_monday_at_midnight\n",
    "\n",
    "# Ejemplo de uso:\n",
    "fecha_lunes_timestamp = calcular_fecha_lunes_timestamp(1)\n",
    "#ff = int(fecha_lunes_timestamp)\n",
    "#print(\"Timestamp del lunes:\", ff)\n",
    "fecha_lunes_timestamp"
   ]
  },
  {
   "cell_type": "code",
   "execution_count": 70,
   "metadata": {},
   "outputs": [
    {
     "name": "stdout",
     "output_type": "stream",
     "text": [
      "200\n"
     ]
    },
    {
     "data": {
      "text/plain": [
       "[[1725235200000,\n",
       "  '0.04235000',\n",
       "  '0.04340000',\n",
       "  '0.04231000',\n",
       "  '0.04291000',\n",
       "  '21882.97790000',\n",
       "  1725321599999,\n",
       "  '938.33287600',\n",
       "  126684,\n",
       "  '10502.47060000',\n",
       "  '450.14745664',\n",
       "  '0'],\n",
       " [1725321600000,\n",
       "  '0.04291000',\n",
       "  '0.04294000',\n",
       "  '0.04204000',\n",
       "  '0.04218000',\n",
       "  '15037.32130000',\n",
       "  1725407999999,\n",
       "  '637.86831894',\n",
       "  83161,\n",
       "  '6880.11890000',\n",
       "  '291.78855646',\n",
       "  '0'],\n",
       " [1725408000000,\n",
       "  '0.04219000',\n",
       "  '0.04274000',\n",
       "  '0.04128000',\n",
       "  '0.04226000',\n",
       "  '31515.78410000',\n",
       "  1725494399999,\n",
       "  '1325.99422403',\n",
       "  142479,\n",
       "  '16301.87140000',\n",
       "  '686.11354707',\n",
       "  '0'],\n",
       " [1725494400000,\n",
       "  '0.04226000',\n",
       "  '0.04245000',\n",
       "  '0.04181000',\n",
       "  '0.04216000',\n",
       "  '17020.48260000',\n",
       "  1725580799999,\n",
       "  '717.97236428',\n",
       "  109254,\n",
       "  '8371.67310000',\n",
       "  '353.15594611',\n",
       "  '0'],\n",
       " [1725580800000,\n",
       "  '0.04217000',\n",
       "  '0.04258000',\n",
       "  '0.04085000',\n",
       "  '0.04123000',\n",
       "  '46145.74470000',\n",
       "  1725667199999,\n",
       "  '1930.32483583',\n",
       "  227897,\n",
       "  '23096.34040000',\n",
       "  '966.78701183',\n",
       "  '0'],\n",
       " [1725667200000,\n",
       "  '0.04124000',\n",
       "  '0.04227000',\n",
       "  '0.04123000',\n",
       "  '0.04199000',\n",
       "  '20385.54880000',\n",
       "  1725753599999,\n",
       "  '853.72200994',\n",
       "  112353,\n",
       "  '9323.97520000',\n",
       "  '390.56535641',\n",
       "  '0'],\n",
       " [1725753600000,\n",
       "  '0.04198000',\n",
       "  '0.04229000',\n",
       "  '0.04175000',\n",
       "  '0.04186000',\n",
       "  '18918.65800000',\n",
       "  1725839999999,\n",
       "  '794.38813920',\n",
       "  125441,\n",
       "  '9223.94430000',\n",
       "  '387.41034170',\n",
       "  '0']]"
      ]
     },
     "execution_count": 70,
     "metadata": {},
     "output_type": "execute_result"
    }
   ],
   "source": [
    "# EJEMPLO DE USO DEL API PELADA\n",
    "import requests\n",
    "symbol = \"ETHBTC\"\n",
    "start_time = str(1725235200)+'000' # +000 to transform to ms\n",
    "end_time = str(1725753600)+'000' # +000 to transform to ms\n",
    "\n",
    "klines_url = f\"https://api.binance.com/api/v3/klines?symbol={symbol}&interval=1d&startTime={start_time}&endTime={end_time}\"\n",
    "klines_response = requests.get(klines_url)\n",
    "print(klines_response.status_code)\n",
    "klines_data = klines_response.json()\n",
    "\n",
    "klines_data"
   ]
  },
  {
   "cell_type": "code",
   "execution_count": 66,
   "metadata": {},
   "outputs": [
    {
     "data": {
      "text/plain": [
       "'1725235200000'"
      ]
     },
     "execution_count": 66,
     "metadata": {},
     "output_type": "execute_result"
    }
   ],
   "source": [
    "start_time = str(1725235200)+'000'\n",
    "start_time"
   ]
  },
  {
   "cell_type": "code",
   "execution_count": 74,
   "metadata": {},
   "outputs": [
    {
     "data": {
      "text/plain": [
       "'data'"
      ]
     },
     "execution_count": 74,
     "metadata": {},
     "output_type": "execute_result"
    }
   ],
   "source": [
    "data_folder='data'\n",
    "\n",
    "data_folder"
   ]
  },
  {
   "cell_type": "code",
   "execution_count": 76,
   "metadata": {},
   "outputs": [
    {
     "name": "stdout",
     "output_type": "stream",
     "text": [
      "MINABTC.csv\n",
      "QUICKBTC.csv\n",
      "HIGHBTC.csv\n",
      "WLDBTC.csv\n",
      "ANKRBTC.csv\n",
      "VIDTBTC.csv\n",
      "VITEBTC.csv\n",
      "CFXBTC.csv\n",
      "AXSBTC.csv\n",
      "HOTBTC.csv\n",
      "BLURBTC.csv\n",
      "WBTCBTC.csv\n",
      "CRVBTC.csv\n",
      "LDOBTC.csv\n",
      "APEBTC.csv\n",
      "BNBBTC.csv\n",
      "COMPBTC.csv\n",
      "LINKBTC.csv\n",
      "YGGBTC.csv\n",
      "SKLBTC.csv\n",
      "ACHBTC.csv\n",
      "SUPERBTC.csv\n",
      "BNXBTC.csv\n",
      "IOBTC.csv\n",
      "OMNIBTC.csv\n",
      "IDEXBTC.csv\n",
      "XLMBTC.csv\n",
      "ZENBTC.csv\n",
      "BANANABTC.csv\n",
      "KSMBTC.csv\n",
      "TRUBTC.csv\n",
      "VICBTC.csv\n",
      "ARKMBTC.csv\n",
      "AVAXBTC.csv\n",
      "AAVEBTC.csv\n",
      "TLMBTC.csv\n",
      "JASMYBTC.csv\n",
      "ORDIBTC.csv\n",
      "ADABTC.csv\n",
      "OPBTC.csv\n",
      "UNIBTC.csv\n",
      "MKRBTC.csv\n",
      "PYTHBTC.csv\n",
      "KLAYBTC.csv\n",
      "AIBTC.csv\n",
      "PAXGBTC.csv\n",
      "ETCBTC.csv\n",
      "CVCBTC.csv\n",
      "AERGOBTC.csv\n",
      "BELBTC.csv\n",
      "MANTABTC.csv\n",
      "ROSEBTC.csv\n",
      "TWTBTC.csv\n",
      "SEIBTC.csv\n",
      "MTLBTC.csv\n",
      "SANDBTC.csv\n",
      "SUNBTC.csv\n",
      "KEYBTC.csv\n",
      "QNTBTC.csv\n",
      "INJBTC.csv\n",
      "COTIBTC.csv\n",
      "FILBTC.csv\n",
      "STXBTC.csv\n",
      "ILVBTC.csv\n",
      "METISBTC.csv\n",
      "IMXBTC.csv\n",
      "NULSBTC.csv\n",
      "MOVRBTC.csv\n",
      "SYSBTC.csv\n",
      "VETBTC.csv\n",
      "DOTBTC.csv\n",
      "STMXBTC.csv\n",
      "1INCHBTC.csv\n",
      "VOXELBTC.csv\n",
      "ELFBTC.csv\n",
      "HBARBTC.csv\n",
      "SAGABTC.csv\n",
      "XAIBTC.csv\n",
      "AUCTIONBTC.csv\n",
      "THETABTC.csv\n",
      "API3BTC.csv\n",
      "ENSBTC.csv\n",
      "FETBTC.csv\n",
      "ICPBTC.csv\n",
      "PEOPLEBTC.csv\n",
      "PIXELBTC.csv\n",
      "NEOBTC.csv\n",
      "SYNBTC.csv\n",
      "RDNTBTC.csv\n",
      "RUNEBTC.csv\n",
      "RENDERBTC.csv\n",
      "POLYXBTC.csv\n",
      "ETHBTC.csv\n",
      "REZBTC.csv\n",
      "WOOBTC.csv\n",
      "BCHBTC.csv\n",
      "LPTBTC.csv\n",
      "TRBBTC.csv\n",
      "DYDXBTC.csv\n",
      "ALICEBTC.csv\n",
      "EGLDBTC.csv\n",
      "TRXBTC.csv\n",
      "SUIBTC.csv\n",
      "ALGOBTC.csv\n",
      "ZECBTC.csv\n",
      "HARDBTC.csv\n",
      "MATICBTC.csv\n",
      "DOGEBTC.csv\n",
      "DARBTC.csv\n",
      "DATABTC.csv\n",
      "BAKEBTC.csv\n",
      "RSRBTC.csv\n",
      "LQTYBTC.csv\n",
      "TAOBTC.csv\n",
      "RPLBTC.csv\n",
      "GMTBTC.csv\n",
      "RAREBTC.csv\n",
      "MBOXBTC.csv\n",
      "ARBBTC.csv\n",
      "OMBTC.csv\n",
      "CHZBTC.csv\n",
      "EOSBTC.csv\n",
      "ACEBTC.csv\n",
      "TIABTC.csv\n",
      "DYMBTC.csv\n",
      "GALABTC.csv\n",
      "TONBTC.csv\n",
      "XRPBTC.csv\n",
      "ALPACABTC.csv\n",
      "BOMEBTC.csv\n",
      "SSVBTC.csv\n",
      "BBBTC.csv\n",
      "ZROBTC.csv\n",
      "AKROBTC.csv\n",
      "CYBERBTC.csv\n",
      "AXLBTC.csv\n",
      "NEARBTC.csv\n",
      "ASTRBTC.csv\n",
      "ARPABTC.csv\n",
      "WIFBTC.csv\n",
      "AEVOBTC.csv\n",
      "LUNABTC.csv\n",
      "VANRYBTC.csv\n",
      "SNXBTC.csv\n",
      "FTMBTC.csv\n",
      "TNSRBTC.csv\n",
      "ENABTC.csv\n",
      "CHRBTC.csv\n",
      "LOKABTC.csv\n",
      "SLFBTC.csv\n",
      "WBTC.csv\n",
      "GTCBTC.csv\n",
      "MAGICBTC.csv\n",
      "PENDLEBTC.csv\n",
      "SUSHIBTC.csv\n",
      "PORTALBTC.csv\n",
      "ATOMBTC.csv\n",
      "ZKBTC.csv\n",
      "GRTBTC.csv\n",
      "HOOKBTC.csv\n",
      "SOLBTC.csv\n",
      "APTBTC.csv\n",
      "CKBBTC.csv\n",
      "ETHFIBTC.csv\n",
      "TKOBTC.csv\n",
      "CAKEBTC.csv\n",
      "ARBTC.csv\n",
      "FLUXBTC.csv\n",
      "LTCBTC.csv\n",
      "STRKBTC.csv\n",
      "PHBBTC.csv\n",
      "C98BTC.csv\n",
      "ALTBTC.csv\n"
     ]
    }
   ],
   "source": [
    "import os\n",
    "data_folder='data'\n",
    "for filename in os.listdir(data_folder):\n",
    "    print(filename)"
   ]
  }
 ],
 "metadata": {
  "kernelspec": {
   "display_name": "Python 3",
   "language": "python",
   "name": "python3"
  },
  "language_info": {
   "codemirror_mode": {
    "name": "ipython",
    "version": 3
   },
   "file_extension": ".py",
   "mimetype": "text/x-python",
   "name": "python",
   "nbconvert_exporter": "python",
   "pygments_lexer": "ipython3",
   "version": "3.10.11"
  }
 },
 "nbformat": 4,
 "nbformat_minor": 2
}
